{
  "nbformat": 4,
  "nbformat_minor": 0,
  "metadata": {
    "colab": {
      "provenance": [],
      "authorship_tag": "ABX9TyM0Sr0k7J6SvgVg9h74Icm+",
      "include_colab_link": true
    },
    "kernelspec": {
      "name": "python3",
      "display_name": "Python 3"
    },
    "language_info": {
      "name": "python"
    }
  },
  "cells": [
    {
      "cell_type": "markdown",
      "metadata": {
        "id": "view-in-github",
        "colab_type": "text"
      },
      "source": [
        "<a href=\"https://colab.research.google.com/github/Jeff980720/Modulo-5/blob/main/Reto17.ipynb\" target=\"_parent\"><img src=\"https://colab.research.google.com/assets/colab-badge.svg\" alt=\"Open In Colab\"/></a>"
      ]
    },
    {
      "cell_type": "code",
      "execution_count": 101,
      "metadata": {
        "colab": {
          "base_uri": "https://localhost:8080/"
        },
        "id": "48iDTcdskAM8",
        "outputId": "c0353a70-db00-425c-a1a1-2ec351e19250"
      },
      "outputs": [
        {
          "output_type": "stream",
          "name": "stderr",
          "text": [
            "<ipython-input-101-e209956fc03f>:64: FutureWarning: The default of observed=False is deprecated and will be changed to True in a future version of pandas. Pass observed=False to retain current behavior or observed=True to adopt the future default and silence this warning.\n",
            "  ventas_categoria_producto=df.groupby(['Categoría del Producto'])['Total'].sum()\n"
          ]
        }
      ],
      "source": [
        "import pandas as pd\n",
        "\n",
        "datos_de_ventas = {\n",
        "    'Fecha': [ '2021-05-01', '2021-05-02', '2021-05-03', '2021-05-04', '2021-05-05','2021-05-06', '2021-05-07', '2021-05-08', '2021-05-09', '2021-05-10'],\n",
        "    # 'Fecha': [ '2021-05-01', '2021-05-01', '2021-05-03', '2021-05-01', '2021-05-05','2021-05-06', '2021-05-07', '2021-05-08', '2021-05-01', '2021-05-01'],\n",
        "    'Categoría del Producto': ['Balones', 'Zapatillas', 'Raquetas', 'Camisetas', 'Balones','Zapatillas', 'Raquetas', 'Camisetas', 'Balones', 'Zapatillas'],\n",
        "    # 'Categoría del Producto': ['Balones', 'Balones', 'Raquetas', 'Balones', 'Balones','Zapatillas', 'Raquetas', 'Camisetas', 'Balones', 'Balones'],\n",
        "    'Producto': ['Balón de Fútbol', 'Zapatillas de Fútbol', 'Raqueta de Tenis', 'Camiseta de Entrenamiento', 'Balón de Baloncesto','Zapatillas de Running'\n",
        "    , 'Raqueta de Badminton', 'Camiseta de Fútbol', 'Balón de Rugby', 'Zapatillas de Tenis'],\n",
        "    'Precio': [30, 120, 150, 25, 40, 110, 90, 35, 50, 95],\n",
        "    'Cantidad': [5, 2, 3, 10, 4, 1, 6, 2, 3, 7],\n",
        "    # 'Cantidad': [5, 5, 3, 5, 4, 1, 6, 2, 5, 5],\n",
        "    'Método de Pago': ['Tarjeta de Crédito', 'PayPal', 'Efectivo', 'Tarjeta de Crédito', 'PayPal','Efectivo', 'Tarjeta de Crédito', 'PayPal', 'Efectivo', 'Tarjeta de Crédito'],\n",
        "    'Ubicación': ['Quito', 'Guayaquil', 'Cuenca', 'Ambato', 'Quito','Guayaquil', 'Quito', 'Cuenca', 'Ambato', 'Guayaquil'],\n",
        "    # 'Ubicación': ['Quito', 'Guayaquil','', 'Ambato', 'Quito','','', 'Cuenca', 'Ambato', 'Guayaquil']\n",
        "}\n",
        "\n",
        "promociones_de_descuento = {\n",
        "    'Categoría del Producto': ['Balones', 'Zapatillas', 'Raquetas', 'Camisetas'],\n",
        "    'Descuento (%)': [10, 15, 5, 20]\n",
        "}\n",
        "df = pd.DataFrame(datos_de_ventas)\n",
        "# print(df)\n",
        "\n",
        "#Preguntas\n",
        "#1. Convercion de datos:\n",
        "df['Categoría del Producto']=pd.Categorical(df['Categoría del Producto'])\n",
        "df['Método de Pago']=pd.Categorical(df['Método de Pago'])\n",
        "# print('\\n Convercion de datos:\\n',df.dtypes)\n",
        "\n",
        "#2. Analisis estadistico:\n",
        "media=df['Precio'].mean()\n",
        "desviacion_estandar=df['Precio'].std()\n",
        "df['Total']=df['Cantidad']*df['Precio']\n",
        "# print(f'\\n Analisis estadistico:','\\n Media: ',media,'\\n Desviacion Estandar: ',desviacion_estandar)\n",
        "# print(f'\\n Precio Total: \\n',df[['Producto','Total']])\n",
        "\n",
        "#3. Fecha de compra:\n",
        "df['Fecha']=pd.to_datetime(df['Fecha'])\n",
        "df['Ultima fecha de compra']=pd.to_datetime(['2021-06-01', '2021-06-01', '2021-06-01', '2021-06-01', '2021-06-01', '2021-06-01', '2021-06-01', '2021-06-01', '2021-06-01', '2021-06-01'])\n",
        "df['Dias desde la ultima compra']=(df['Ultima fecha de compra']-df['Fecha']).dt.days\n",
        "# print(df.dtypes)\n",
        "# print(f'\\n Fecha de compra: \\n',df[['Fecha','Ultima fecha de compra','Dias desde la ultima compra']])\n",
        "\n",
        "#4. Promociones y descuentos:\n",
        "df_promociones=pd.DataFrame(promociones_de_descuento)\n",
        "df_concatenado=pd.merge(df,df_promociones,on='Categoría del Producto',how='left')\n",
        "precio_descuento=df_concatenado['Precio']*(1-df_concatenado['Descuento (%)']/100)\n",
        "precio_total_descuento=precio_descuento*df_concatenado['Cantidad']\n",
        "df_concatenado['Precio descuento']=precio_descuento\n",
        "df_concatenado['Total descuento']=precio_total_descuento\n",
        "# print(df_promociones,'\\n')\n",
        "# print(df_concatenado[['Producto','Precio','Total','Precio descuento','Total descuento']])\n",
        "maximo_descuento=df_concatenado['Total descuento'].max()\n",
        "# print('\\n El mayor descuento: ',maximo_descuento)\n",
        "\n",
        "#5. Limpieza de datos:\n",
        "df['Ubicación']=df['Ubicación'].replace('','Desconocido')\n",
        "# print('\\n Limpieza de datos: \\n',df[['Ubicación']])\n",
        "sin_duplicados=df[['Fecha','Categoría del Producto','Cantidad']].drop_duplicates()\n",
        "# print('\\n',sin_duplicados)\n",
        "\n",
        "#6. Operaciones avanzadas:\n",
        "ventas_categoria_producto=df.groupby(['Categoría del Producto'])['Total'].sum()\n",
        "# print('\\n',ventas_categoria_producto,'\\n')\n"
      ]
    }
  ]
}