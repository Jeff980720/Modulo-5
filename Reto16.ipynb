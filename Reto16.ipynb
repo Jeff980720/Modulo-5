{
  "nbformat": 4,
  "nbformat_minor": 0,
  "metadata": {
    "colab": {
      "provenance": [],
      "authorship_tag": "ABX9TyM+7Y6dRBr+WnEa8DOFc4my",
      "include_colab_link": true
    },
    "kernelspec": {
      "name": "python3",
      "display_name": "Python 3"
    },
    "language_info": {
      "name": "python"
    }
  },
  "cells": [
    {
      "cell_type": "markdown",
      "metadata": {
        "id": "view-in-github",
        "colab_type": "text"
      },
      "source": [
        "<a href=\"https://colab.research.google.com/github/Jeff980720/Modulo-5/blob/main/Reto16.ipynb\" target=\"_parent\"><img src=\"https://colab.research.google.com/assets/colab-badge.svg\" alt=\"Open In Colab\"/></a>"
      ]
    },
    {
      "cell_type": "code",
      "execution_count": null,
      "metadata": {
        "id": "fBSGYGl-Wjeb"
      },
      "outputs": [],
      "source": [
        "import pandas as pd\n",
        "from sklearn.preprocessing import MinMaxScaler\n",
        "url=\"https://raw.githubusercontent.com/datasciencedojo/datasets/master/titanic.csv\"\n",
        "df=pd.read_csv(url)\n",
        "# print(df)\n",
        "#Ejercicio 1\n",
        "#Lireral 1:\n",
        "df_filtrado=df[df['Age']>30]\n",
        "pd.set_option(\"display.max_rows\", None)\n",
        "print(\"Resultados del filtro: \",df_filtrado['Age'].count(),\"filas\\n\")\n",
        "print(df_filtrado[['PassengerId','Name','Age']])\n",
        "#Lireral 2:\n",
        "df_filtrado=df[df['Pclass']==1]\n",
        "pd.set_option(\"display.max_rows\", None)\n",
        "print(\"Resultados del filtro: \",df_filtrado['Pclass'].count(),\"filas\\n\")\n",
        "print(df_filtrado[['PassengerId','Name','Pclass']])\n",
        "#Lireral 3:\n",
        "pd.set_option(\"display.max_rows\", None)\n",
        "df_filtrado=df[(df['Age']>30) & (df['Pclass']==1)]\n",
        "print(\"Resultados del filtro: \",df_filtrado['Age'].count(),\"filas\\n\")\n",
        "print(df_filtrado[['Name','Age']])\n",
        "\n",
        "#Ejercicio 2\n",
        "#Lireral 1:\n",
        "pd.set_option(\"display.max_rows\", None)\n",
        "def convertir_meses(edad):\n",
        "    return edad * 12\n",
        "print(\"Resultados: \",df['Age'].count(),\"filas\\n\")\n",
        "df[\"Age_Months\"] = df[\"Age\"].apply(convertir_meses)\n",
        "print(df[['Name','Age','Age_Months']])\n",
        "#Lireral 2:\n",
        "df_clear=df.dropna(subset=['Age'])\n",
        "df_clear = df_clear[df_clear['Age'] !=None]\n",
        "# df_clear = df_clear[pd.isna(df_clear['Age'])]\n",
        "def convertir_meses(edad):\n",
        "    return edad * 12\n",
        "print(\"Resultados: \",df_clear['Age'].count(),\"filas\\n\")\n",
        "df_clear[\"Age_Months\"] = df_clear[\"Age\"].apply(convertir_meses)\n",
        "print(df_clear[['Name','Age','Age_Months']])\n",
        "\n",
        "#Ejercicio 3\n",
        "#Lireral 1:\n",
        "df_clear=df.dropna(subset=['Age'])\n",
        "df_clear = df_clear[df_clear['Age'] !=None]\n",
        "print(\"Resultados: \",df_clear['Age'].count(),\"filas\\n\")\n",
        "print(df_clear[['Name','Age']])\n",
        "#Lireral 2:\n",
        "df_fill = df.fillna({'Embarked': 'S'}, inplace=False)\n",
        "df[\"Embarked\"].fillna(\"S\", inplace=True)\n",
        "# print(df[\"Embarked\"].isnull().sum()) // Comprobar que no existan filas vacias\n",
        "print(\"Resultados: \",df['Embarked'].count(),\"filas\\n\")\n",
        "print(\"datos rellenados\\n\",df[['Name','Embarked']])\n",
        "#Lireral 3:\n",
        "sin_duplicados=df['Name'].drop_duplicates()\n",
        "print(\"Resultados: \",sin_duplicados.count(),\"filas\\n\")\n",
        "print(sin_duplicados)\n",
        "\n",
        "#Ejercicio 4\n",
        "#Lireral 1:\n",
        "sobrevivientes_por_clase = df[df[\"Survived\"] == 1].groupby(\"Pclass\")[\"Survived\"].count()\n",
        "#Lireral 2:\n",
        "print(\"Resultados:\",(df[\"Survived\"] == 1).sum(),'sobrevivientes')\n",
        "print(\"Sobrevivientes por clase: \",sobrevivientes_por_clase)\n",
        "\n",
        "#Ejercicio 5\n",
        "#Lireral 1:\n",
        "df[\"Sex\"] = df[\"Sex\"].astype(\"category\")\n",
        "print(df.info())\n",
        "# Lireral 2:\n",
        "df['Fare'] = df['Fare'].astype('float')\n",
        "print(df.info())\n",
        "\n",
        "#Ejercicio 6\n",
        "#Lireral 1:\n",
        "#Lireral 2:\n",
        "normalizador=MinMaxScaler()\n",
        "df[\"Age\"].fillna(df[\"Age\"].mean(), inplace=True)\n",
        "df[\"Age_Normalized\"]=normalizador.fit_transform(df[['Age']])\n",
        "print(df[['Age','Age_Normalized']])"
      ]
    }
  ]
}