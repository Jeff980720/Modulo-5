{
  "nbformat": 4,
  "nbformat_minor": 0,
  "metadata": {
    "colab": {
      "provenance": [],
      "authorship_tag": "ABX9TyNqIqgWmkx86yvyw2+nrihq",
      "include_colab_link": true
    },
    "kernelspec": {
      "name": "python3",
      "display_name": "Python 3"
    },
    "language_info": {
      "name": "python"
    }
  },
  "cells": [
    {
      "cell_type": "markdown",
      "metadata": {
        "id": "view-in-github",
        "colab_type": "text"
      },
      "source": [
        "<a href=\"https://colab.research.google.com/github/Jeff980720/Modulo-5/blob/main/Reto18.ipynb\" target=\"_parent\"><img src=\"https://colab.research.google.com/assets/colab-badge.svg\" alt=\"Open In Colab\"/></a>"
      ]
    },
    {
      "cell_type": "code",
      "execution_count": 20,
      "metadata": {
        "colab": {
          "base_uri": "https://localhost:8080/",
          "height": 1000
        },
        "id": "IuVbrzOzZY_W",
        "outputId": "2bc27ed8-bfac-42f4-b2bd-fc646139b8dd"
      },
      "outputs": [
        {
          "output_type": "stream",
          "name": "stdout",
          "text": [
            "                     Fecha      Precio  Unidades Vendidas  Costo de Producción\n",
            "count                   10   10.000000          10.000000            10.000000\n",
            "mean   2021-06-03 14:24:00   86.500000          25.500000            51.200000\n",
            "min    2021-06-01 00:00:00   10.000000           5.000000             5.000000\n",
            "25%    2021-06-02 06:00:00   27.500000          10.500000            15.000000\n",
            "50%    2021-06-03 12:00:00   85.000000          20.000000            45.000000\n",
            "75%    2021-06-05 00:00:00  127.500000          37.500000            77.500000\n",
            "max    2021-06-06 00:00:00  200.000000          60.000000           120.000000\n",
            "std                    NaN   63.859655          19.091883            40.358945\n",
            "                   Unidades Vendidas    Precio\n",
            "Unidades Vendidas           1.000000 -0.895623\n",
            "Precio                     -0.895623  1.000000\n",
            "Empty DataFrame\n",
            "Columns: [Producto, Fecha, Categoría, Precio, Unidades Vendidas, Costo de Producción, Método de Pago, Ciudad]\n",
            "Index: []\n",
            "Empty DataFrame\n",
            "Columns: [Producto, Fecha, Categoría, Precio, Unidades Vendidas, Costo de Producción, Método de Pago, Ciudad]\n",
            "Index: []\n",
            "  Producto      Fecha     Categoría  Precio  Unidades Vendidas  \\\n",
            "0        E 2021-06-01   Electrónica     120               15.0   \n",
            "1        F 2021-06-01          Ropa      50               30.0   \n",
            "2        G 2021-06-02  Alimentación      20               50.0   \n",
            "3        D 2021-06-03   Electrónica     150                5.0   \n",
            "4        E 2021-06-03          Ropa      90               12.0   \n",
            "5        F 2021-06-04  Alimentación      10               60.0   \n",
            "6        G 2021-06-05   Electrónica     200                8.0   \n",
            "7        H 2021-06-05          Ropa      80               25.0   \n",
            "8        I 2021-06-06  Alimentación      15               40.0   \n",
            "9        J 2021-06-06   Electrónica     130               10.0   \n",
            "\n",
            "   Costo de Producción      Método de Pago     Ciudad  \n",
            "0                   80  Tarjeta de Crédito      Quito  \n",
            "1                   30              PayPal     Cuenca  \n",
            "2                   10            Efectivo  Guayaquil  \n",
            "3                  100  Tarjeta de Crédito       Loja  \n",
            "4                   50              PayPal     Ambato  \n",
            "5                    5            Efectivo      Quito  \n",
            "6                  120  Tarjeta de Crédito  Guayaquil  \n",
            "7                   40              PayPal     Cuenca  \n",
            "8                    7            Efectivo      Quito  \n",
            "9                   70  Tarjeta de Crédito       Loja  \n"
          ]
        },
        {
          "output_type": "display_data",
          "data": {
            "text/plain": [
              "<Figure size 640x480 with 1 Axes>"
            ],
            "image/png": "[encoded data removed]"
          },
          "metadata": {}
        }
      ],
      "source": [
        "import pandas as pd\n",
        "from scipy import stats\n",
        "import matplotlib.pyplot as plt\n",
        "import numpy as np\n",
        "\n",
        "# Crear el DataFrame con los datos de la imagen\n",
        "data = {\n",
        "    'Producto': ['E', 'F', 'G', 'D', 'E', 'F', 'G', 'H', 'I', 'J'],\n",
        "    'Fecha': ['2021-06-01', '2021-06-01', '2021-06-02', '2021-06-03', '2021-06-03', '2021-06-04', '2021-06-05', '2021-06-05', '2021-06-06', '2021-06-06'],\n",
        "    'Categoría': ['Electrónica', 'Ropa', 'Alimentación', 'Electrónica', 'Ropa', 'Alimentación', 'Electrónica', 'Ropa', 'Alimentación', 'Electrónica'],\n",
        "    'Precio': [120, 50, 20, 150, 90, 10, 200, 80, 15, 130],\n",
        "    'Unidades Vendidas': [15, 30, 50, 5, 12, 60, 8, 25, 40, 10],\n",
        "    'Costo de Producción': [80, 30, 10, 100, 50, 5, 120, 40, 7, 70],\n",
        "    'Método de Pago': ['Tarjeta de Crédito', 'PayPal', 'Efectivo', 'Tarjeta de Crédito', 'PayPal', 'Efectivo', 'Tarjeta de Crédito', 'PayPal', 'Efectivo', 'Tarjeta de Crédito'],\n",
        "    'Ciudad': ['Quito', 'Cuenca', 'Guayaquil', 'Loja', 'Ambato', 'Quito', 'Guayaquil', 'Cuenca', 'Quito', 'Loja']\n",
        "}\n",
        "\n",
        "df = pd.DataFrame(data)\n",
        "\n",
        "# print(df)\n",
        "# print(df.dtypes)\n",
        "\n",
        "df['Fecha']=pd.to_datetime(df['Fecha'])\n",
        "df['Categoría']=df['Categoría'].astype('category')\n",
        "df['Método de Pago']=df['Método de Pago'].astype('category')\n",
        "\n",
        "# print(df.dtypes)\n",
        "\n",
        "media_ventas=df['Unidades Vendidas'].mean()\n",
        "# print(f\"La media de las ventas es: {media_ventas}\")\n",
        "\n",
        "desviacion_estandar_ventas=df['Unidades Vendidas'].std()\n",
        "# print(f\"La desviación estándar de las ventas es: {desviacion_estandar_ventas}\")\n",
        "\n",
        "print(df.describe())\n",
        "\n",
        "correlacion=df[['Unidades Vendidas','Precio']].corr()\n",
        "print(correlacion)\n",
        "\n",
        "q1=df['Unidades Vendidas'].quantile(0.25)\n",
        "q3=df['Unidades Vendidas'].quantile(0.75)\n",
        "iqr=q3-q1\n",
        "\n",
        "limite_superior=q3+1.5*iqr\n",
        "limite_inferior=q1-1.5*iqr\n",
        "\n",
        "# print(f\"El límite superior es: {limite_superior}\")\n",
        "# print(f\"El límite inferior es: {limite_inferior}\")\n",
        "# print(df['Unidades Vendidas'])\n",
        "\n",
        "filtro=df[(df['Unidades Vendidas']<limite_inferior) | (df['Unidades Vendidas']>limite_superior)]\n",
        "print(filtro)\n",
        "\n",
        "z_scores=stats.zscore(df['Unidades Vendidas'])\n",
        "# df['Unidades Vendidas_Z']=z_scores\n",
        "outlier=df[(z_scores>2)|(z_scores<-2)]\n",
        "print(outlier)\n",
        "\n",
        "df['Unidades Vendidas']=np.where((z_scores<-2)|(z_scores>2),media_ventas,df['Unidades Vendidas'])\n",
        "print(df)\n",
        "\n",
        "plt.boxplot(df['Unidades Vendidas'])\n",
        "plt.title('Boxplot de Ventas')\n",
        "plt.show()"
      ]
    }
  ]
}